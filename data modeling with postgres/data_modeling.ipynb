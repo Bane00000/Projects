{
 "cells": [
  {
   "cell_type": "code",
   "execution_count": 1,
   "id": "2345ef0a-5212-4cdb-b58b-bef2e43f5079",
   "metadata": {},
   "outputs": [],
   "source": [
    "# Importing libraries\n",
    "import psycopg2\n",
    "import pandas as pd"
   ]
  },
  {
   "cell_type": "code",
   "execution_count": 2,
   "id": "b6e8d298-522e-4686-8308-d80f4e328a96",
   "metadata": {},
   "outputs": [],
   "source": [
    "def create_database():\n",
    "    '''\n",
    "    Creating new database for PostgreSQL\n",
    "    '''\n",
    "    # Connecting to default database\n",
    "    conn = psycopg2.connect(\"host=localhost dbname=postgres user=postgres password=pass\")\n",
    "    conn.set_session(autocommit=True)\n",
    "    cur = conn.cursor()\n",
    "    \n",
    "    # Creating the database\n",
    "    cur.execute(\"DROP DATABASE IF EXISTS accounts\")\n",
    "    cur.execute(\"CREATE DATABASE accounts\")\n",
    "    \n",
    "    # Close connection to default database\n",
    "    conn.close()\n",
    "    \n",
    "    # Connecting to the newly made database\n",
    "    conn = psycopg2.connect(\"host=localhost dbname=accounts user=postgres password=pass\")\n",
    "    cur = conn.cursor()\n",
    "    \n",
    "    return cur, conn"
   ]
  },
  {
   "cell_type": "code",
   "execution_count": 3,
   "id": "0f3b2552-ff1b-4b40-85bf-f0fcfb225b72",
   "metadata": {},
   "outputs": [],
   "source": [
    "# Reading data\n",
    "accountcountry = pd.read_csv('Wealth-AccountsCountry.csv')"
   ]
  },
  {
   "cell_type": "code",
   "execution_count": 5,
   "id": "636df4bf-7dbf-40b9-b7e5-97f7b0a17308",
   "metadata": {},
   "outputs": [],
   "source": [
    "# Shortening data\n",
    "accountcountry = accountcountry[['Code', 'Short Name', 'Table Name', 'Long Name', 'Currency Unit']]"
   ]
  },
  {
   "cell_type": "code",
   "execution_count": 22,
   "id": "9028512e-004b-456c-aa09-7ee39a353c01",
   "metadata": {},
   "outputs": [],
   "source": [
    "# Using the function to make the database\n",
    "cur, conn = create_database()"
   ]
  },
  {
   "cell_type": "code",
   "execution_count": 23,
   "id": "4fd968b2-c872-4ebe-82ab-b922565e42aa",
   "metadata": {},
   "outputs": [],
   "source": [
    "# Making the new table in database\n",
    "accountscountry_table = (\"\"\"\n",
    "CREATE TABLE IF NOT EXISTS accountscountry(\n",
    "country_code VARCHAR PRIMARY KEY,\n",
    "short_name VARCHAR,\n",
    "table_name VARCHAR,\n",
    "long_name VARCHAR,\n",
    "currency_unit VARCHAR\n",
    ")\n",
    "\"\"\")"
   ]
  },
  {
   "cell_type": "code",
   "execution_count": 24,
   "id": "eb0dc1a6-0010-4885-b30f-8d06e4e9a67d",
   "metadata": {},
   "outputs": [],
   "source": [
    "# Executing the query\n",
    "cur.execute(accountscountry_table)\n",
    "conn.commit()"
   ]
  },
  {
   "cell_type": "code",
   "execution_count": 9,
   "id": "f0ae78d7-a2a8-49ee-9e40-81fd43a1ac0c",
   "metadata": {},
   "outputs": [],
   "source": [
    "conn.set_session(autocommit=True)"
   ]
  },
  {
   "cell_type": "code",
   "execution_count": 10,
   "id": "7694480b-3256-4541-be69-e63b58ef243c",
   "metadata": {},
   "outputs": [],
   "source": [
    "# Making the new table in database\n",
    "accountsdata_table = (\"\"\"\n",
    "CREATE TABLE IF NOT EXISTS accountsdata(\n",
    "country_name VARCHAR,\n",
    "country_code VARCHAR,\n",
    "series_name VARCHAR,\n",
    "series_code VARCHAR,\n",
    "year_1995 VARCHAR,\n",
    "year_2000 VARCHAR,\n",
    "year_2005 VARCHAR,\n",
    "year_2010 VARCHAR\n",
    ")\n",
    "\"\"\")"
   ]
  },
  {
   "cell_type": "code",
   "execution_count": 11,
   "id": "40f48764-4803-462d-8a0e-015a5b211f34",
   "metadata": {},
   "outputs": [],
   "source": [
    "# Executing the query\n",
    "cur.execute(accountsdata_table)\n",
    "conn.commit()"
   ]
  },
  {
   "cell_type": "code",
   "execution_count": 22,
   "id": "f3eef55d-e703-40f9-bbc4-fd24d19d7be9",
   "metadata": {},
   "outputs": [],
   "source": [
    "# Adding data in the table\n",
    "account_country_insert = (\"\"\"\n",
    "INSERT INTO accountscountry(\n",
    "country_code,\n",
    "short_name,\n",
    "table_name,\n",
    "long_name,\n",
    "currency_unit)\n",
    "VALUES (%s, %s, %s, %s, %s)\n",
    "\"\"\")"
   ]
  },
  {
   "cell_type": "code",
   "execution_count": 27,
   "id": "313210ef-abdc-47b5-92d8-8d73043d2c03",
   "metadata": {},
   "outputs": [],
   "source": [
    "# Removing the key\n",
    "cur.execute(\"\"\"\n",
    "ALTER TABLE accountscountry\n",
    "DROP CONSTRAINT accountscountry_pkey\n",
    "\"\"\")"
   ]
  },
  {
   "cell_type": "code",
   "execution_count": 28,
   "id": "a9699e60-c1a8-40b1-bff9-34b620e2e273",
   "metadata": {},
   "outputs": [],
   "source": [
    "# Getting the data\n",
    "for i, row in accountcountry.iterrows():\n",
    "    cur.execute(account_country_insert, list(row))"
   ]
  },
  {
   "cell_type": "code",
   "execution_count": 39,
   "id": "cd7b3588-0dbd-4a79-bce6-37b5e61fb1df",
   "metadata": {},
   "outputs": [],
   "source": [
    "# Closing\n",
    "cur.close()\n",
    "conn.close()"
   ]
  }
 ],
 "metadata": {
  "kernelspec": {
   "display_name": "Python 3 (ipykernel)",
   "language": "python",
   "name": "python3"
  },
  "language_info": {
   "codemirror_mode": {
    "name": "ipython",
    "version": 3
   },
   "file_extension": ".py",
   "mimetype": "text/x-python",
   "name": "python",
   "nbconvert_exporter": "python",
   "pygments_lexer": "ipython3",
   "version": "3.8.13"
  }
 },
 "nbformat": 4,
 "nbformat_minor": 5
}
